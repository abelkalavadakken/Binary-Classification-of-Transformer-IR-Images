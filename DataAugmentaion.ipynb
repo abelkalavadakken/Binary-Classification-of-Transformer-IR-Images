{
 "cells": [
  {
   "cell_type": "code",
   "execution_count": 1,
   "metadata": {},
   "outputs": [],
   "source": [
    "from keras.preprocessing.image import ImageDataGenerator, array_to_img, img_to_array, load_img\n",
    "import os"
   ]
  },
  {
   "cell_type": "code",
   "execution_count": 14,
   "metadata": {},
   "outputs": [],
   "source": [
    "datagen = ImageDataGenerator(\n",
    "    rotation_range = 90,\n",
    "    # width_shift_range = 0.1,\n",
    "    # height_shift_range = 0.1,\n",
    "    shear_range= 0.7,\n",
    "    zoom_range= 0.1,\n",
    "    horizontal_flip=True,\n",
    "    vertical_flip=True,\n",
    "    fill_mode='nearest' \n",
    ")"
   ]
  },
  {
   "cell_type": "code",
   "execution_count": 17,
   "metadata": {},
   "outputs": [
    {
     "data": {
      "text/plain": [
       "['p7_480',\n",
       " 'p8_560',\n",
       " 'p9_600',\n",
       " 'p1_Noload',\n",
       " 'p2_80',\n",
       " 'p3_160',\n",
       " 'p4_240',\n",
       " 'p5_320',\n",
       " 'p6_400']"
      ]
     },
     "execution_count": 17,
     "metadata": {},
     "output_type": "execute_result"
    }
   ],
   "source": [
    "folders = os.listdir(r'class\\test')\n",
    "directory = 'class\\\\test'\n",
    "folders"
   ]
  },
  {
   "cell_type": "code",
   "execution_count": 18,
   "metadata": {},
   "outputs": [
    {
     "name": "stdout",
     "output_type": "stream",
     "text": [
      "class\\test\\p7_480\n",
      "class\\test\\p8_560\n",
      "class\\test\\p9_600\n",
      "class\\test\\p1_Noload\n",
      "class\\test\\p2_80\n",
      "class\\test\\p3_160\n",
      "class\\test\\p4_240\n",
      "class\\test\\p5_320\n",
      "class\\test\\p6_400\n"
     ]
    }
   ],
   "source": [
    "for folder in folders:\n",
    "    fold_name = os.path.join(directory, folder)\n",
    "    print(fold_name)\n",
    "    for img in os.listdir(fold_name):\n",
    "        path2 = os.path.join(fold_name, img)\n",
    "        img = load_img(path2)\n",
    "        x = img_to_array(img)\n",
    "        x = x.reshape((1,) + x.shape)\n",
    "        i =0\n",
    "        for batch in datagen.flow(x, batch_size=1, save_to_dir=fold_name,save_prefix='aug', save_format='bmp'):\n",
    "            i += 1\n",
    "            if i > 50:\n",
    "                break\n",
    "\n"
   ]
  },
  {
   "cell_type": "code",
   "execution_count": 3,
   "metadata": {},
   "outputs": [
    {
     "data": {
      "text/plain": [
       "['p1001.bmp',\n",
       " 'p1002.bmp',\n",
       " 'p1003.bmp',\n",
       " 'p1004.bmp',\n",
       " 'p1005.bmp',\n",
       " 'p1006.bmp',\n",
       " 'p1007.bmp',\n",
       " 'p1008.bmp',\n",
       " 'p1009.bmp',\n",
       " 'p1010.bmp',\n",
       " 'p1011.bmp',\n",
       " 'p1012.bmp',\n",
       " 'p1013.bmp',\n",
       " 'p1014.bmp',\n",
       " 'p1015.bmp',\n",
       " 'p1016.bmp']"
      ]
     },
     "execution_count": 3,
     "metadata": {},
     "output_type": "execute_result"
    }
   ],
   "source": [
    "dir = r'class\\train\\p1_Noload'\n",
    "files = os.listdir(dir)\n",
    "files"
   ]
  },
  {
   "cell_type": "code",
   "execution_count": 4,
   "metadata": {},
   "outputs": [],
   "source": [
    "for img in files:\n",
    "    path = os.path.join(dir, img)\n",
    "    img = load_img(path)\n",
    "    x = img_to_array(img)\n",
    "    x = x.reshape((1,) + x.shape)\n",
    "    i =0\n",
    "    for batch in datagen.flow(x, batch_size=1, save_to_dir=dir,save_prefix='aug', save_format='bmp'):\n",
    "        i += 1\n",
    "        if i > 10:\n",
    "            break"
   ]
  },
  {
   "cell_type": "code",
   "execution_count": 2,
   "metadata": {},
   "outputs": [
    {
     "data": {
      "text/plain": [
       "['p7_480',\n",
       " 'p8_560',\n",
       " 'p9_600',\n",
       " 'p1_Noload',\n",
       " 'p2_80',\n",
       " 'p3_160',\n",
       " 'p4_240',\n",
       " 'p5_320',\n",
       " 'p6_400']"
      ]
     },
     "execution_count": 2,
     "metadata": {},
     "output_type": "execute_result"
    }
   ],
   "source": [
    "folders = os.listdir('TransImg')\n",
    "folders"
   ]
  },
  {
   "cell_type": "code",
   "execution_count": 78,
   "metadata": {},
   "outputs": [],
   "source": [
    "final_dir = 'Aug'\n",
    "j = 0\n",
    "for folder in folders:\n",
    "    j+=1\n",
    "    os.mkdir(os.path.join('Aug',folder))\n",
    "    directory = os.path.join('TransImg', folder)\n",
    "    new_dir = os.path.join(final_dir,folder)\n",
    "    for img in os.listdir(directory):\n",
    "        img = load_img(os.path.join(directory, img))\n",
    "        x = img_to_array(img)\n",
    "        x = x.reshape((1,) + x.shape)\n",
    "        i =0\n",
    "        \n",
    "        for batch in datagen.flow(x, batch_size=1, save_to_dir=new_dir,save_prefix='aug', save_format='bmp'):\n",
    "            i += 1\n",
    "            if i > 2:\n",
    "                    break\n",
    "    if j > 2:\n",
    "        break\n",
    "        \n",
    "    \n",
    "\n",
    "        \n",
    "    "
   ]
  },
  {
   "cell_type": "code",
   "execution_count": 71,
   "metadata": {},
   "outputs": [
    {
     "data": {
      "text/plain": [
       "'TransImg/p9_600'"
      ]
     },
     "execution_count": 71,
     "metadata": {},
     "output_type": "execute_result"
    }
   ],
   "source": [
    "os.path.join('TransImg', folder)\n"
   ]
  },
  {
   "cell_type": "code",
   "execution_count": null,
   "metadata": {},
   "outputs": [],
   "source": []
  }
 ],
 "metadata": {
  "interpreter": {
   "hash": "b89b5cfaba6639976dc87ff2fec6d58faec662063367e2c229c520fe71072417"
  },
  "kernelspec": {
   "display_name": "Python 3.10.4 64-bit",
   "name": "python3"
  },
  "language_info": {
   "codemirror_mode": {
    "name": "ipython",
    "version": 3
   },
   "file_extension": ".py",
   "mimetype": "text/x-python",
   "name": "python",
   "nbconvert_exporter": "python",
   "pygments_lexer": "ipython3",
   "version": "3.10.4"
  },
  "orig_nbformat": 4
 },
 "nbformat": 4,
 "nbformat_minor": 2
}
